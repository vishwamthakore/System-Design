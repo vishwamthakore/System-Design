{
 "cells": [
  {
   "cell_type": "markdown",
   "metadata": {},
   "source": [
    "## Book My Show\n",
    "\n",
    "### Requirements\n",
    "\n",
    "**User**\n",
    "* Register\n",
    "* Login\n",
    "* Search shows based on Movie, City, Language\n",
    "* Book a show\n",
    "    * Select show and seat\n",
    "    * Make payment\n",
    "\n",
    "**Theater**\n",
    "* Register as Theater Admin \n",
    "* Login as Theater Admin\n",
    "* Add shows (for your theater)\n",
    "* Update shows (for your theater)"
   ]
  },
  {
   "cell_type": "markdown",
   "metadata": {},
   "source": [
    "#### API Design\n",
    "\n",
    "User to System\n",
    "    \n",
    "    - bool register(name, email, phoneNumber, password)\n",
    "    - bool login(email/phone, password)\n",
    "    \n",
    "    - list<Shows> searchShows(movie, city, language, startDate, endDate)\n",
    "    - bool bookShow(showId, list<seatId>)\n",
    "        ShowDetails getShowDetails(showId)\n",
    "        bool makePayment()\n",
    "\n",
    "Theater Admin to System\n",
    "    \n",
    "    - bool addShow(movie, startTime, startDate, endDate)\n",
    "    - bool updateShow(showId, movie, startTime, startDate, endDate)"
   ]
  },
  {
   "cell_type": "markdown",
   "metadata": {},
   "source": [
    "#### DB Design\n",
    "\n",
    "    Users\n",
    "    - user_id, user_name, email, phone, password\n",
    "    \n",
    "    Theater\n",
    "    - theater_id, theater_name, location, address, theater_admin_email, theater_admin_phone, theater_admin_password\n",
    "\n",
    "    Shows\n",
    "    - show_id, theater_id, movie_id, start_time\n",
    "\n",
    "    Movie\n",
    "    - movie_id, movie_name, duration\n",
    "\n",
    "    Seats\n",
    "    - seat_id, show_id, seat_number, is_booked, seat_type, user_id, viewer_name  \n",
    "    \n",
    "    Booking\n",
    "    - booking_id, show_id, user_id, payment_method, seats_booked(json list)\n",
    "\n",
    "\n",
    "\n",
    "\n",
    "\n",
    "\n",
    "\n"
   ]
  },
  {
   "cell_type": "markdown",
   "metadata": {},
   "source": []
  }
 ],
 "metadata": {
  "language_info": {
   "name": "python"
  },
  "orig_nbformat": 4
 },
 "nbformat": 4,
 "nbformat_minor": 2
}
